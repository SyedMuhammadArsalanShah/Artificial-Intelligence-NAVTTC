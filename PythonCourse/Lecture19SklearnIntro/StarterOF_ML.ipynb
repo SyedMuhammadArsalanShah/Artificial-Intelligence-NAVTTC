{
 "cells": [
  {
   "cell_type": "code",
   "execution_count": 3,
   "id": "eb571d3d-d948-46dc-b37a-61b194048c46",
   "metadata": {},
   "outputs": [
    {
     "name": "stdout",
     "output_type": "stream",
     "text": [
      "Defaulting to user installation because normal site-packages is not writeable\n",
      "Requirement already satisfied: scikit-learn in c:\\users\\mypc\\appdata\\roaming\\python\\python313\\site-packages (1.6.1)\n",
      "Requirement already satisfied: numpy>=1.19.5 in c:\\users\\mypc\\appdata\\roaming\\python\\python313\\site-packages (from scikit-learn) (2.2.5)\n",
      "Requirement already satisfied: scipy>=1.6.0 in c:\\users\\mypc\\appdata\\roaming\\python\\python313\\site-packages (from scikit-learn) (1.15.3)\n",
      "Requirement already satisfied: joblib>=1.2.0 in c:\\users\\mypc\\appdata\\roaming\\python\\python313\\site-packages (from scikit-learn) (1.5.0)\n",
      "Requirement already satisfied: threadpoolctl>=3.1.0 in c:\\users\\mypc\\appdata\\roaming\\python\\python313\\site-packages (from scikit-learn) (3.6.0)\n",
      "Note: you may need to restart the kernel to use updated packages.\n"
     ]
    }
   ],
   "source": [
    "pip install scikit-learn"
   ]
  },
  {
   "cell_type": "code",
   "execution_count": 9,
   "id": "0be6e229-e524-418f-bf5f-b617b5b62ac9",
   "metadata": {},
   "outputs": [
    {
     "name": "stdout",
     "output_type": "stream",
     "text": [
      "['Orange']\n"
     ]
    }
   ],
   "source": [
    "from sklearn import tree\n",
    "\n",
    "features=[\n",
    "[150,1], # apple\n",
    " [170,1], # apple\n",
    "[130,0], # orange\n",
    "[120,0]  # orange\n",
    "]\n",
    "label=[\"Apple\", \"Apple\", \"Orange\", \"Orange\"]\n",
    "obj=tree.DecisionTreeClassifier()\n",
    "obj= obj.fit(features,label)\n",
    "print(obj.predict([[120,1]]))\n",
    "\n"
   ]
  }
 ],
 "metadata": {
  "kernelspec": {
   "display_name": "Python 3 (ipykernel)",
   "language": "python",
   "name": "python3"
  },
  "language_info": {
   "codemirror_mode": {
    "name": "ipython",
    "version": 3
   },
   "file_extension": ".py",
   "mimetype": "text/x-python",
   "name": "python",
   "nbconvert_exporter": "python",
   "pygments_lexer": "ipython3",
   "version": "3.13.1"
  }
 },
 "nbformat": 4,
 "nbformat_minor": 5
}
