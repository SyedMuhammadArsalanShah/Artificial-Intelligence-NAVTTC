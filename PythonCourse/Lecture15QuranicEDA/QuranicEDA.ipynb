{
 "cells": [
  {
   "cell_type": "markdown",
   "id": "7541c894-c586-43f0-9425-bb37e75361df",
   "metadata": {},
   "source": [
    "# Quranic DATA ANALYSIS REPORT (ED)"
   ]
  },
  {
   "cell_type": "code",
   "execution_count": 4,
   "id": "935a1491-7374-4e71-8910-620744bb79f2",
   "metadata": {},
   "outputs": [
    {
     "data": {
      "text/html": [
       "<div>\n",
       "<style scoped>\n",
       "    .dataframe tbody tr th:only-of-type {\n",
       "        vertical-align: middle;\n",
       "    }\n",
       "\n",
       "    .dataframe tbody tr th {\n",
       "        vertical-align: top;\n",
       "    }\n",
       "\n",
       "    .dataframe thead th {\n",
       "        text-align: right;\n",
       "    }\n",
       "</style>\n",
       "<table border=\"1\" class=\"dataframe\">\n",
       "  <thead>\n",
       "    <tr style=\"text-align: right;\">\n",
       "      <th></th>\n",
       "      <th>code</th>\n",
       "      <th>status</th>\n",
       "      <th>data.number</th>\n",
       "      <th>data.name</th>\n",
       "      <th>data.englishName</th>\n",
       "      <th>data.englishNameTranslation</th>\n",
       "      <th>data.numberOfAyahs</th>\n",
       "      <th>data.revelationType</th>\n",
       "    </tr>\n",
       "  </thead>\n",
       "  <tbody>\n",
       "    <tr>\n",
       "      <th>0</th>\n",
       "      <td>200</td>\n",
       "      <td>OK</td>\n",
       "      <td>1</td>\n",
       "      <td>سُورَةُ ٱلْفَاتِحَةِ</td>\n",
       "      <td>Al-Faatiha</td>\n",
       "      <td>The Opening</td>\n",
       "      <td>7</td>\n",
       "      <td>Meccan</td>\n",
       "    </tr>\n",
       "    <tr>\n",
       "      <th>1</th>\n",
       "      <td>200</td>\n",
       "      <td>OK</td>\n",
       "      <td>6</td>\n",
       "      <td>سُورَةُ الأَنۡعَامِ</td>\n",
       "      <td>Al-An'aam</td>\n",
       "      <td>The Cattle</td>\n",
       "      <td>165</td>\n",
       "      <td>Meccan</td>\n",
       "    </tr>\n",
       "    <tr>\n",
       "      <th>2</th>\n",
       "      <td>200</td>\n",
       "      <td>OK</td>\n",
       "      <td>7</td>\n",
       "      <td>سُورَةُ الأَعۡرَافِ</td>\n",
       "      <td>Al-A'raaf</td>\n",
       "      <td>The Heights</td>\n",
       "      <td>206</td>\n",
       "      <td>Meccan</td>\n",
       "    </tr>\n",
       "    <tr>\n",
       "      <th>3</th>\n",
       "      <td>200</td>\n",
       "      <td>OK</td>\n",
       "      <td>10</td>\n",
       "      <td>سُورَةُ يُونُسَ</td>\n",
       "      <td>Yunus</td>\n",
       "      <td>Jonas</td>\n",
       "      <td>109</td>\n",
       "      <td>Meccan</td>\n",
       "    </tr>\n",
       "    <tr>\n",
       "      <th>4</th>\n",
       "      <td>200</td>\n",
       "      <td>OK</td>\n",
       "      <td>11</td>\n",
       "      <td>سُورَةُ هُودٍ</td>\n",
       "      <td>Hud</td>\n",
       "      <td>Hud</td>\n",
       "      <td>123</td>\n",
       "      <td>Meccan</td>\n",
       "    </tr>\n",
       "    <tr>\n",
       "      <th>...</th>\n",
       "      <td>...</td>\n",
       "      <td>...</td>\n",
       "      <td>...</td>\n",
       "      <td>...</td>\n",
       "      <td>...</td>\n",
       "      <td>...</td>\n",
       "      <td>...</td>\n",
       "      <td>...</td>\n",
       "    </tr>\n",
       "    <tr>\n",
       "      <th>109</th>\n",
       "      <td>200</td>\n",
       "      <td>OK</td>\n",
       "      <td>66</td>\n",
       "      <td>سُورَةُ التَّحۡرِيمِ</td>\n",
       "      <td>At-Tahrim</td>\n",
       "      <td>The Prohibition</td>\n",
       "      <td>12</td>\n",
       "      <td>Medinan</td>\n",
       "    </tr>\n",
       "    <tr>\n",
       "      <th>110</th>\n",
       "      <td>200</td>\n",
       "      <td>OK</td>\n",
       "      <td>76</td>\n",
       "      <td>سُورَةُ الإِنسَانِ</td>\n",
       "      <td>Al-Insaan</td>\n",
       "      <td>Man</td>\n",
       "      <td>31</td>\n",
       "      <td>Medinan</td>\n",
       "    </tr>\n",
       "    <tr>\n",
       "      <th>111</th>\n",
       "      <td>200</td>\n",
       "      <td>OK</td>\n",
       "      <td>98</td>\n",
       "      <td>سُورَةُ البَيِّنَةِ</td>\n",
       "      <td>Al-Bayyina</td>\n",
       "      <td>The Evidence</td>\n",
       "      <td>8</td>\n",
       "      <td>Medinan</td>\n",
       "    </tr>\n",
       "    <tr>\n",
       "      <th>112</th>\n",
       "      <td>200</td>\n",
       "      <td>OK</td>\n",
       "      <td>99</td>\n",
       "      <td>سُورَةُ الزَّلۡزَلَةِ</td>\n",
       "      <td>Az-Zalzala</td>\n",
       "      <td>The Earthquake</td>\n",
       "      <td>8</td>\n",
       "      <td>Medinan</td>\n",
       "    </tr>\n",
       "    <tr>\n",
       "      <th>113</th>\n",
       "      <td>200</td>\n",
       "      <td>OK</td>\n",
       "      <td>110</td>\n",
       "      <td>سُورَةُ النَّصۡرِ</td>\n",
       "      <td>An-Nasr</td>\n",
       "      <td>Divine Support</td>\n",
       "      <td>3</td>\n",
       "      <td>Medinan</td>\n",
       "    </tr>\n",
       "  </tbody>\n",
       "</table>\n",
       "<p>114 rows × 8 columns</p>\n",
       "</div>"
      ],
      "text/plain": [
       "     code status  data.number              data.name data.englishName  \\\n",
       "0     200     OK            1   سُورَةُ ٱلْفَاتِحَةِ       Al-Faatiha   \n",
       "1     200     OK            6    سُورَةُ الأَنۡعَامِ        Al-An'aam   \n",
       "2     200     OK            7    سُورَةُ الأَعۡرَافِ        Al-A'raaf   \n",
       "3     200     OK           10        سُورَةُ يُونُسَ            Yunus   \n",
       "4     200     OK           11          سُورَةُ هُودٍ              Hud   \n",
       "..    ...    ...          ...                    ...              ...   \n",
       "109   200     OK           66   سُورَةُ التَّحۡرِيمِ        At-Tahrim   \n",
       "110   200     OK           76     سُورَةُ الإِنسَانِ        Al-Insaan   \n",
       "111   200     OK           98    سُورَةُ البَيِّنَةِ       Al-Bayyina   \n",
       "112   200     OK           99  سُورَةُ الزَّلۡزَلَةِ       Az-Zalzala   \n",
       "113   200     OK          110      سُورَةُ النَّصۡرِ          An-Nasr   \n",
       "\n",
       "    data.englishNameTranslation  data.numberOfAyahs data.revelationType  \n",
       "0                   The Opening                   7              Meccan  \n",
       "1                    The Cattle                 165              Meccan  \n",
       "2                   The Heights                 206              Meccan  \n",
       "3                         Jonas                 109              Meccan  \n",
       "4                           Hud                 123              Meccan  \n",
       "..                          ...                 ...                 ...  \n",
       "109             The Prohibition                  12             Medinan  \n",
       "110                         Man                  31             Medinan  \n",
       "111                The Evidence                   8             Medinan  \n",
       "112              The Earthquake                   8             Medinan  \n",
       "113              Divine Support                   3             Medinan  \n",
       "\n",
       "[114 rows x 8 columns]"
      ]
     },
     "execution_count": 4,
     "metadata": {},
     "output_type": "execute_result"
    }
   ],
   "source": [
    "import pandas as pd\n",
    "\n",
    "df =pd.read_csv(\"quran.csv\")\n",
    "df"
   ]
  },
  {
   "cell_type": "markdown",
   "id": "d445400e-869e-465d-a025-f29455c1ae96",
   "metadata": {},
   "source": [
    "## Total Surah Count "
   ]
  },
  {
   "cell_type": "code",
   "execution_count": 8,
   "id": "15281e93-f900-4626-9b5e-d22d52168253",
   "metadata": {},
   "outputs": [
    {
     "data": {
      "text/plain": [
       "114"
      ]
     },
     "execution_count": 8,
     "metadata": {},
     "output_type": "execute_result"
    }
   ],
   "source": [
    "df[\"data.name\"].nunique()"
   ]
  },
  {
   "cell_type": "markdown",
   "id": "3bc2cf5c-6a78-4c0d-b3db-76c078a558ab",
   "metadata": {},
   "source": [
    "**Totat Verses sum**\n"
   ]
  },
  {
   "cell_type": "code",
   "execution_count": 11,
   "id": "30fb4ecb-6b59-4499-ba45-59e3148c048d",
   "metadata": {},
   "outputs": [
    {
     "data": {
      "text/plain": [
       "np.int64(6236)"
      ]
     },
     "execution_count": 11,
     "metadata": {},
     "output_type": "execute_result"
    }
   ],
   "source": [
    "df[\"data.numberOfAyahs\"].sum()"
   ]
  },
  {
   "cell_type": "code",
   "execution_count": 17,
   "id": "b055edfb-ac6b-4fb2-8d25-e36256ca788a",
   "metadata": {},
   "outputs": [
    {
     "data": {
      "text/plain": [
       "data.revelationType\n",
       "Meccan     86\n",
       "Medinan    28\n",
       "Name: data.name, dtype: int64"
      ]
     },
     "execution_count": 17,
     "metadata": {},
     "output_type": "execute_result"
    }
   ],
   "source": [
    "df.groupby(\"data.revelationType\")[\"data.name\"].count()"
   ]
  },
  {
   "cell_type": "code",
   "execution_count": 20,
   "id": "927df905-9174-4863-bccd-37a7c2b476c1",
   "metadata": {},
   "outputs": [
    {
     "data": {
      "image/png": "[encoded data removed]",
      "text/plain": [
       "<Figure size 500x500 with 1 Axes>"
      ]
     },
     "metadata": {},
     "output_type": "display_data"
    }
   ],
   "source": [
    "import matplotlib.pyplot as plt\n",
    "\n",
    "plt.figure(figsize=(5,5))\n",
    "plt.bar(df[\"data.revelationType\"], df[\"data.numberOfAyahs\"])\n",
    "plt.xlabel(\"Surah Revelation Type\")\n",
    "plt.ylabel(\"Number Of Ayahs\")\n",
    "plt.title(\"Nuzooli Tarteeb\")\n",
    "plt.show()"
   ]
  },
  {
   "cell_type": "code",
   "execution_count": 22,
   "id": "a16d367a-36c1-41da-aa87-2d430039ef1a",
   "metadata": {},
   "outputs": [
    {
     "data": {
      "image/png": "[encoded data removed]",
      "text/plain": [
       "<Figure size 500x500 with 1 Axes>"
      ]
     },
     "metadata": {},
     "output_type": "display_data"
    }
   ],
   "source": [
    "import matplotlib.pyplot as plt\n",
    "import seaborn as sns \n",
    "\n",
    "plt.figure(figsize=(5,5))\n",
    "sns.histplot(df[\"data.numberOfAyahs\"],bins=20,kde=True)\n",
    "plt.xlabel(\"Surah Revelation Type\")\n",
    "plt.ylabel(\"Number Of Ayahs\")\n",
    "plt.title(\"Nuzooli Tarteeb\")\n",
    "plt.show()"
   ]
  }
 ],
 "metadata": {
  "kernelspec": {
   "display_name": "Python 3 (ipykernel)",
   "language": "python",
   "name": "python3"
  },
  "language_info": {
   "codemirror_mode": {
    "name": "ipython",
    "version": 3
   },
   "file_extension": ".py",
   "mimetype": "text/x-python",
   "name": "python",
   "nbconvert_exporter": "python",
   "pygments_lexer": "ipython3",
   "version": "3.13.1"
  }
 },
 "nbformat": 4,
 "nbformat_minor": 5
}
