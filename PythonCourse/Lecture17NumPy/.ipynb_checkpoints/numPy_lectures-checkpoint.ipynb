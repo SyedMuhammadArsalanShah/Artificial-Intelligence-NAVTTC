{
  "cells": [
    {
      "cell_type": "markdown",
      "metadata": {},
      "source": [
        "# NumPy vs Python Lists: Performance & Usage Guide\n",
        "This notebook demonstrates the difference between **Python lists** and **NumPy arrays**, their performance, memory usage, and various operations."
      ]
    },
    {
      "cell_type": "markdown",
      "metadata": {},
      "source": [
        "## 1. Python Lists vs NumPy Arrays (Performance Benchmark)"
      ]
    },
    {
      "cell_type": "code",
      "execution_count": null,
      "metadata": {},
      "outputs": [],
      "source": [
        "import numpy as np\n",
        "import time\n",
        "\n",
        "# Python list\n",
        "size = 1_000_000\n",
        "list1 = list(range(size))\n",
        "list2 = list(range(size))\n",
        "\n",
        "start = time.time()\n",
        "result = [x + y for x, y in zip(list1, list2)]\n",
        "end = time.time()\n",
        "print(\"Python list addition time:\", end - start)\n",
        "\n",
        "# NumPy array\n",
        "arr1 = np.array(list1)\n",
        "arr2 = np.array(list2)\n",
        "\n",
        "start = time.time()\n",
        "result = arr1 + arr2  # Vectorized operation\n",
        "end = time.time()\n",
        "print(\"NumPy array addition time:\", end - start)"
      ]
    },
    {
      "cell_type": "markdown",
      "metadata": {},
      "source": [
        "## 2. Creating NumPy Arrays"
      ]
    },
    {
      "cell_type": "code",
      "execution_count": null,
      "metadata": {},
      "outputs": [],
      "source": [
        "import numpy as np\n",
        "\n",
        "# Creating a 1D NumPy array\n",
        "arr1 = np.array([1, 2, 3, 4, 5])\n",
        "print(arr1)\n",
        "\n",
        "# Creating a 2D NumPy array\n",
        "arr2 = np.array([[1, 2, 3], [4, 5, 6]])\n",
        "print(arr2)\n",
        "\n",
        "# Checking type and shape\n",
        "print(\"Type:\", type(arr1))\n",
        "print(\"Shape:\", arr2.shape)"
      ]
    },
    {
      "cell_type": "markdown",
      "metadata": {},
      "source": [
        "## 3. Memory Efficiency"
      ]
    },
    {
      "cell_type": "code",
      "execution_count": null,
      "metadata": {},
      "outputs": [],
      "source": [
        "import sys\n",
        "\n",
        "list_data = list(range(1000))\n",
        "numpy_data = np.array(list_data)\n",
        "\n",
        "print(\"Python list size:\", sys.getsizeof(list_data) * len(list_data), \"bytes\")\n",
        "print(\"NumPy array size:\", numpy_data.nbytes, \"bytes\")"
      ]
    },
    {
      "cell_type": "markdown",
      "metadata": {},
      "source": [
        "## 4. Array Basics (Shape, Size, Dimensions, Data types)"
      ]
    },
    {
      "cell_type": "code",
      "execution_count": null,
      "metadata": {},
      "outputs": [],
      "source": [
        "np.zeros((3, 3))\n",
        "np.ones((2, 4))\n",
        "np.full((2, 2), 7)\n",
        "np.eye(4)\n",
        "np.arange(1, 10, 2)\n",
        "np.linspace(0, 1, 5)\n",
        "\n",
        "arr = np.array([[10, 20, 30], [40, 50, 60]])\n",
        "print(\"Shape:\", arr.shape)\n",
        "print(\"Size:\", arr.size)\n",
        "print(\"Dimensions:\", arr.ndim)\n",
        "print(\"Data type:\", arr.dtype)"
      ]
    },
    {
      "cell_type": "markdown",
      "metadata": {},
      "source": [
        "## 5. Reshaping & Flattening"
      ]
    },
    {
      "cell_type": "code",
      "execution_count": null,
      "metadata": {},
      "outputs": [],
      "source": [
        "arr = np.array([[1, 2, 3], [4, 5, 6]])\n",
        "print(arr.shape)\n",
        "\n",
        "reshaped = arr.reshape((3, 2))\n",
        "print(reshaped)\n",
        "\n",
        "flattened = arr.flatten()\n",
        "print(flattened)"
      ]
    },
    {
      "cell_type": "markdown",
      "metadata": {},
      "source": [
        "## 6. Indexing, Slicing, Masking, and Fancy Indexing"
      ]
    },
    {
      "cell_type": "code",
      "execution_count": null,
      "metadata": {},
      "outputs": [],
      "source": [
        "arr = np.array([10, 20, 30, 40, 50])\n",
        "print(arr[1:4])\n",
        "print(arr[:3])\n",
        "print(arr[::2])\n",
        "\n",
        "sliced = arr[1:4]\n",
        "sliced[0] = 999\n",
        "print(arr)\n",
        "\n",
        "idx = [0, 2, 4]\n",
        "print(arr[idx])\n",
        "\n",
        "mask = arr > 25\n",
        "print(arr[mask])"
      ]
    },
    {
      "cell_type": "markdown",
      "metadata": {},
      "source": [
        "## 7. Operations (Vectorization & Broadcasting)"
      ]
    },
    {
      "cell_type": "code",
      "execution_count": null,
      "metadata": {},
      "outputs": [],
      "source": [
        "arr = np.array([1, 2, 3, 4, 5])\n",
        "print(arr ** 2)\n",
        "print(arr + 10)\n",
        "\n",
        "arr1 = np.array([[1, 2, 3], [4, 5, 6]])\n",
        "arr2 = np.array([1, 2, 3])\n",
        "print(arr1 + arr2)"
      ]
    },
    {
      "cell_type": "markdown",
      "metadata": {},
      "source": [
        "## 8. Statistics & Normalization"
      ]
    },
    {
      "cell_type": "code",
      "execution_count": null,
      "metadata": {},
      "outputs": [],
      "source": [
        "data = np.array([[10, 20, 30],\n",
        "                 [15, 25, 35],\n",
        "                 [20, 30, 40],\n",
        "                 [25, 35, 45],\n",
        "                 [30, 40, 50]])\n",
        "\n",
        "mean = data.mean(axis=0)\n",
        "std = data.std(axis=0)\n",
        "\n",
        "normalized_data = (data - mean) / std\n",
        "print(normalized_data)"
      ]
    },
    {
      "cell_type": "markdown",
      "metadata": {},
      "source": [
        "## 9. Useful NumPy Functions Cheat-Sheet"
      ]
    },
    {
      "cell_type": "code",
      "execution_count": null,
      "metadata": {},
      "outputs": [],
      "source": [
        "np.mean(arr)\n",
        "np.std(arr)\n",
        "np.var(arr)\n",
        "np.min(arr)\n",
        "np.max(arr)\n",
        "np.sum(arr)\n",
        "np.prod(arr)\n",
        "np.median(arr)\n",
        "np.percentile(arr, 50)\n",
        "np.argmin(arr)\n",
        "np.argmax(arr)\n",
        "np.corrcoef(arr1, arr2)\n",
        "np.unique(arr)\n",
        "np.diff(arr)\n",
        "np.cumsum(arr)\n",
        "np.linspace(0, 10, 5)\n",
        "np.log(arr)\n",
        "np.exp(arr)"
      ]
    },
    {
      "cell_type": "markdown",
      "metadata": {},
      "source": [
        "# ✅ Conclusion\n",
        "- Python lists are **slower** and use more memory for numerical operations.\n",
        "- NumPy arrays are **faster, memory-efficient, and support vectorized & broadcasting operations**.\n",
        "- NumPy provides a rich set of tools for data analysis, statistics, and machine learning preparation."
      ]
    }
  ],
  "metadata": {
    "kernelspec": {
      "display_name": "Python 3",
      "language": "python",
      "name": "python3"
    },
    "language_info": {
      "name": "python",
      "version": "3.10"
    }
  },
  "nbformat": 4,
  "nbformat_minor": 5
}
