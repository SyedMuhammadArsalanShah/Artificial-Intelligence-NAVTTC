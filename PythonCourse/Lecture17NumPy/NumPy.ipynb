{
 "cells": [
  {
   "cell_type": "markdown",
   "id": "998e3f17-01d6-4cd3-9d6d-ad050147fb40",
   "metadata": {},
   "source": [
    "# NumPy vs Python Lists: Performance & Usage Guide\n",
    "This notebook demonstrates the difference between **Python lists** and **NumPy arrays**, their performance, memory usage, and various operations."
   ]
  },
  {
   "cell_type": "markdown",
   "id": "24787d7d-8dae-40b0-8e71-691a8b34b171",
   "metadata": {},
   "source": [
    "## NumPy vs. Python Lists – Performance Test"
   ]
  },
  {
   "cell_type": "code",
   "execution_count": 3,
   "id": "3c309c96-fb3b-4f43-b8c6-f528f505e72b",
   "metadata": {},
   "outputs": [
    {
     "name": "stdout",
     "output_type": "stream",
     "text": [
      "[0, 2, 4, 6, 8, 10, 12, 14, 16, 18]\n",
      "Python list addition time: 0.16579604148864746\n",
      "[ 0  2  4  6  8 10 12 14 16 18]\n",
      "NumPy array addition time: 0.0631406307220459\n"
     ]
    }
   ],
   "source": [
    "import numpy as np\n",
    "import time\n",
    "\n",
    "# Python list\n",
    "size = 1_000_000\n",
    "list1 = list(range(size))\n",
    "list2 = list(range(size))\n",
    "\n",
    "start = time.time()\n",
    "result = [x + y for x, y in zip(list1, list2)]\n",
    "print(result[0:10])\n",
    "end = time.time()\n",
    "print(\"Python list addition time:\", end - start)\n",
    "\n",
    "# NumPy array\n",
    "arr1 = np.array(list1)\n",
    "arr2 = np.array(list2)\n",
    "\n",
    "start = time.time()\n",
    "result = arr1 + arr2  # Vectorized operation\n",
    "print(result[0:10])\n",
    "end = time.time()\n",
    "print(\"NumPy array addition time:\", end - start)"
   ]
  },
  {
   "cell_type": "markdown",
   "id": "1ad8be58-a8a2-4a05-90a9-80d034166e5b",
   "metadata": {},
   "source": [
    "## Creating NumPy Arrays"
   ]
  },
  {
   "cell_type": "code",
   "execution_count": 5,
   "id": "3173b4dd-2319-41fc-a99f-908c19abecbf",
   "metadata": {},
   "outputs": [
    {
     "name": "stdout",
     "output_type": "stream",
     "text": [
      "[1 2 3 4 5]\n",
      "[[1 2 3]\n",
      " [4 5 6]]\n",
      "Type: <class 'numpy.ndarray'>\n",
      "Shape: (2, 3)\n"
     ]
    }
   ],
   "source": [
    "import numpy as np\n",
    "\n",
    "# Creating a 1D NumPy array\n",
    "arr1 = np.array([1, 2, 3, 4, 5])\n",
    "print(arr1)\n",
    "\n",
    "# Creating a 2D NumPy array\n",
    "arr2 = np.array([[1, 2, 3], [4, 5, 6]])\n",
    "print(arr2)\n",
    "\n",
    "# Checking type and shape\n",
    "print(\"Type:\", type(arr1))\n",
    "print(\"Shape:\", arr2.shape)"
   ]
  },
  {
   "cell_type": "markdown",
   "id": "0b432e1e-7b57-483e-b21f-384996853edc",
   "metadata": {},
   "source": [
    "## Memory Efficiency – NumPy vs. Lists"
   ]
  },
  {
   "cell_type": "code",
   "execution_count": 4,
   "id": "211cf830-fee8-4798-b805-4caeeb7c8a42",
   "metadata": {},
   "outputs": [
    {
     "name": "stdout",
     "output_type": "stream",
     "text": [
      "Python list size: 8056000 bytes\n",
      "NumPy array size: 8000 bytes\n"
     ]
    }
   ],
   "source": [
    "import sys\n",
    "\n",
    "list_data = list(range(1000))\n",
    "numpy_data = np.array(list_data)\n",
    "\n",
    "print(\"Python list size:\", sys.getsizeof(list_data) * len(list_data), \"bytes\")\n",
    "print(\"NumPy array size:\", numpy_data.nbytes, \"bytes\")"
   ]
  },
  {
   "cell_type": "markdown",
   "id": "20a10418-cd4c-4612-9eab-d7b4ee1f7d7b",
   "metadata": {},
   "source": [
    "## Vectorization – No More Loops!"
   ]
  },
  {
   "cell_type": "code",
   "execution_count": 6,
   "id": "dedc7aef-66d8-4022-b9b5-22419801bde6",
   "metadata": {},
   "outputs": [],
   "source": [
    "# Python list (loop-based)\n",
    "list_squares = [x ** 2 for x in list1]\n",
    "\n",
    "# NumPy (vectorized)\n",
    "numpy_squares = arr1 ** 2"
   ]
  },
  {
   "cell_type": "markdown",
   "id": "f8606643-fe73-43aa-b5b5-7ef1f7c1309a",
   "metadata": {},
   "source": [
    "## Creating NumPy Arrays\n",
    "### 1.From Python Lists:"
   ]
  },
  {
   "cell_type": "code",
   "execution_count": null,
   "id": "2637e7bf-64ec-4266-aae4-b8aa0700ce04",
   "metadata": {},
   "outputs": [],
   "source": [
    "import numpy as np\n",
    "\n",
    "arr1 = np.array([1, 2, 3, 4, 5])  # 1D array\n",
    "arr2 = np.array([[1, 2, 3], [4, 5, 6]])  # 2D array\n",
    "\n",
    "print(arr1)  # [1 2 3 4 5]\n",
    "print(arr2)  \n",
    "# [[1 2 3]\n",
    "#  [4 5 6]]"
   ]
  },
  {
   "cell_type": "markdown",
   "id": "b3caaac5-fb9a-464e-b310-4718986a12db",
   "metadata": {},
   "source": [
    "### 2.Creating Arrays from Scratch:"
   ]
  },
  {
   "cell_type": "code",
   "execution_count": 8,
   "id": "d61ba05c-8500-4c50-ad4a-589937dcee0c",
   "metadata": {},
   "outputs": [
    {
     "data": {
      "text/plain": [
       "array([0.  , 0.25, 0.5 , 0.75, 1.  ])"
      ]
     },
     "execution_count": 8,
     "metadata": {},
     "output_type": "execute_result"
    }
   ],
   "source": [
    "np.zeros((3, 3))    # 3x3 array of zeros\n",
    "np.ones((2, 4))     # 2x4 array of ones\n",
    "np.full((2, 2), 7)  # 2x2 array filled with 7\n",
    "np.eye(4)           # 4x4 identity matrix\n",
    "np.arange(1, 10, 2) # [1, 3, 5, 7, 9] (like range)\n",
    "np.linspace(0, 1, 5) # [0. 0.25 0.5 0.75 1.] (evenly spaced)"
   ]
  },
  {
   "cell_type": "markdown",
   "id": "fb0231ff-8126-42b0-84a4-c0bcc8af2ec9",
   "metadata": {},
   "source": [
    "##  Checking Array Properties"
   ]
  },
  {
   "cell_type": "code",
   "execution_count": 9,
   "id": "7a39613b-8c7f-474c-8116-f159355b3ed3",
   "metadata": {},
   "outputs": [
    {
     "name": "stdout",
     "output_type": "stream",
     "text": [
      "Shape: (2, 3)\n",
      "Size: 6\n",
      "Dimensions: 2\n",
      "Data type: int64\n"
     ]
    }
   ],
   "source": [
    "arr = np.array([[10, 20, 30], [40, 50, 60]])\n",
    "\n",
    "print(\"Shape:\", arr.shape)   # (2, 3) → 2 rows, 3 columns\n",
    "print(\"Size:\", arr.size)     # 6 → total elements\n",
    "print(\"Dimensions:\", arr.ndim) # 2 → 2D array\n",
    "print(\"Data type:\", arr.dtype) # int64 (or int32 on Windows)"
   ]
  },
  {
   "cell_type": "markdown",
   "id": "e15f8cd8-6b7e-46bc-9712-87ba5c14a4ff",
   "metadata": {},
   "source": [
    "## Changing Data Types"
   ]
  },
  {
   "cell_type": "code",
   "execution_count": null,
   "id": "55591ca8-c9b6-48ce-9cf2-1437ee9e6671",
   "metadata": {},
   "outputs": [],
   "source": [
    "\n",
    "# Changing Data Types\n",
    "arr = np.array([1, 2, 3], dtype=np.float32)  # Explicit type\n",
    "print(arr.dtype)  # float32\n",
    "\n",
    "arr_int = arr.astype(np.int32)  # Convert float to int\n",
    "print(arr_int)  # [1 2 3]"
   ]
  },
  {
   "cell_type": "markdown",
   "id": "e0dbabf8-8576-4a43-a161-c3b53b95eb98",
   "metadata": {},
   "source": [
    "## Reshaping and Flattening Arrays"
   ]
  },
  {
   "cell_type": "code",
   "execution_count": 11,
   "id": "779feb3d-58c2-4327-9b90-1580e59ff44d",
   "metadata": {},
   "outputs": [
    {
     "name": "stdout",
     "output_type": "stream",
     "text": [
      "(2, 3)\n",
      "[[1 2]\n",
      " [3 4]\n",
      " [5 6]]\n",
      "[1 2 3 4 5 6]\n"
     ]
    }
   ],
   "source": [
    "\n",
    "arr = np.array([[1, 2, 3], [4, 5, 6]])\n",
    "print(arr.shape)  # (2, 3)\n",
    "\n",
    "reshaped = arr.reshape((3, 2))  # Change shape\n",
    "print(reshaped)\n",
    "# [[1 2]\n",
    "#  [3 4]\n",
    "#  [5 6]]\n",
    "\n",
    "flattened = arr.flatten()  # Convert 2D → 1D\n",
    "print(flattened)  # [1 2 3 4 5 6]"
   ]
  },
  {
   "cell_type": "markdown",
   "id": "a3eebc29-8ab2-4a7c-b024-6b83ac843582",
   "metadata": {},
   "source": [
    "## Indexing (Same as Python Lists)"
   ]
  },
  {
   "cell_type": "code",
   "execution_count": 4,
   "id": "bd79c75e-09cd-40b9-b65b-2d5952202e94",
   "metadata": {},
   "outputs": [
    {
     "name": "stdout",
     "output_type": "stream",
     "text": [
      "10\n",
      "40\n"
     ]
    }
   ],
   "source": [
    "\n",
    "arr = np.array([10, 20, 30, 40])\n",
    "print(arr[0])  # 10\n",
    "print(arr[-1]) # 40"
   ]
  },
  {
   "cell_type": "markdown",
   "id": "2800042e-111b-4a4d-9ea2-ff71a998310b",
   "metadata": {},
   "source": [
    "## Slicing (Extracting Parts of an Array)"
   ]
  },
  {
   "cell_type": "code",
   "execution_count": 5,
   "id": "9d93cb06-7efd-4bcd-88e1-9eed6046996e",
   "metadata": {},
   "outputs": [
    {
     "name": "stdout",
     "output_type": "stream",
     "text": [
      "[20 30 40]\n",
      "[10 20 30]\n",
      "[10 30 50]\n"
     ]
    }
   ],
   "source": [
    "\n",
    "arr = np.array([10, 20, 30, 40, 50])\n",
    "\n",
    "print(arr[1:4])  # [20 30 40] (slice from index 1 to 3)\n",
    "print(arr[:3])   # [10 20 30] (first 3 elements)\n",
    "print(arr[::2])  # [10 30 50] (every 2nd element)"
   ]
  },
  {
   "cell_type": "markdown",
   "id": "fefa0547-1ff3-43f4-af2a-50553845fc52",
   "metadata": {},
   "source": [
    "## Slicing (Extracting Parts of an Array)"
   ]
  },
  {
   "cell_type": "code",
   "execution_count": 6,
   "id": "96ba109f-8c73-4dfb-a90b-38e4fb87c09f",
   "metadata": {},
   "outputs": [
    {
     "name": "stdout",
     "output_type": "stream",
     "text": [
      "[ 10 999  30  40  50]\n"
     ]
    }
   ],
   "source": [
    "\n",
    "\n",
    "\n",
    "sliced = arr[1:4]\n",
    "sliced[0] = 999\n",
    "print(arr)  # [10 999 30 40 50]"
   ]
  },
  {
   "cell_type": "markdown",
   "id": "f2d53c59-5081-40fd-8d9b-3091e8d69e50",
   "metadata": {},
   "source": [
    "## Fancy Indexing (Select Multiple Elements)"
   ]
  },
  {
   "cell_type": "code",
   "execution_count": 7,
   "id": "543f23fa-e585-4a98-a179-b888a5c40d75",
   "metadata": {},
   "outputs": [
    {
     "name": "stdout",
     "output_type": "stream",
     "text": [
      "[10 30 50]\n"
     ]
    }
   ],
   "source": [
    "\n",
    "\n",
    "arr = np.array([10, 20, 30, 40, 50])\n",
    "idx = [0, 2, 4]  # Indices to select\n",
    "print(arr[idx])  # [10 30 50]"
   ]
  },
  {
   "cell_type": "markdown",
   "id": "5bc27232-4a40-4ea1-93a4-3e3bacac0f43",
   "metadata": {},
   "source": [
    "## Boolean Masking (Filter Data)"
   ]
  },
  {
   "cell_type": "code",
   "execution_count": 9,
   "id": "f11c3d8e-71af-4f32-94cb-440419e68c13",
   "metadata": {},
   "outputs": [
    {
     "name": "stdout",
     "output_type": "stream",
     "text": [
      "[30 40 50]\n"
     ]
    }
   ],
   "source": [
    "\n",
    "arr = np.array([10, 20, 30, 40, 50])\n",
    "mask = arr > 25  # Condition: values greater than 25\n",
    "print(arr[mask])  # [30 40 50]\n"
   ]
  },
  {
   "cell_type": "markdown",
   "id": "893c8d5f-9bd5-4498-b316-55291d7bd1f0",
   "metadata": {},
   "source": [
    "# Multidimensional Indexing and Axis"
   ]
  },
  {
   "cell_type": "code",
   "execution_count": 11,
   "id": "b3438ab4-dcc7-4e40-b3d4-f93e372628f5",
   "metadata": {},
   "outputs": [
    {
     "name": "stdout",
     "output_type": "stream",
     "text": [
      "[[1 2 3]\n",
      " [4 5 6]\n",
      " [7 8 9]]\n"
     ]
    }
   ],
   "source": [
    "\n",
    "import numpy as np\n",
    "\n",
    "arr = np.array([[1, 2, 3], \n",
    "                [4, 5, 6], \n",
    "                [7, 8, 9]])\n",
    "\n",
    "print(arr)"
   ]
  },
  {
   "cell_type": "markdown",
   "id": "8b9b037d-45a2-4738-9047-80db493fe535",
   "metadata": {},
   "source": [
    "## Sum along axes:"
   ]
  },
  {
   "cell_type": "code",
   "execution_count": 12,
   "id": "f019c017-5ac7-4238-afd0-f333b50cec10",
   "metadata": {},
   "outputs": [
    {
     "name": "stdout",
     "output_type": "stream",
     "text": [
      "[12 15 18]\n",
      "[ 6 15 24]\n"
     ]
    }
   ],
   "source": [
    "print(np.sum(arr, axis=0))  # Sum along rows (down each column)\n",
    "print(np.sum(arr, axis=1))  # Sum along columns (across each row)"
   ]
  },
  {
   "cell_type": "markdown",
   "id": "f5019ed3-5ed7-4562-839c-6b0c695eb0ad",
   "metadata": {},
   "source": [
    "## Accessing an element"
   ]
  },
  {
   "cell_type": "code",
   "execution_count": 14,
   "id": "49d4213b-d5be-4a52-ae90-15313a53462d",
   "metadata": {},
   "outputs": [
    {
     "name": "stdout",
     "output_type": "stream",
     "text": [
      "6\n"
     ]
    }
   ],
   "source": [
    "\n",
    "print(arr[1, 2])  # Row index 1, Column index 2 → Output: 6"
   ]
  },
  {
   "cell_type": "code",
   "execution_count": 4,
   "id": "8b64d559-b51d-4b6e-bdd0-9cfda788f44f",
   "metadata": {},
   "outputs": [
    {
     "name": "stdout",
     "output_type": "stream",
     "text": [
      "[[2 3]\n",
      " [5 6]]\n"
     ]
    }
   ],
   "source": [
    "print(arr[0:2, 1:3])  # Extracts first 2 rows and last 2 columns"
   ]
  },
  {
   "cell_type": "markdown",
   "id": "caba6a2d-e988-49a9-9716-3b6d167b38e1",
   "metadata": {},
   "source": [
    "# Indexing in 3D Arrays"
   ]
  },
  {
   "cell_type": "code",
   "execution_count": 18,
   "id": "cf749351-2ec9-4c9b-9283-81a1c5da2e61",
   "metadata": {},
   "outputs": [
    {
     "name": "stdout",
     "output_type": "stream",
     "text": [
      "(2, 2, 3)\n",
      "6\n",
      "[[1 2 3]\n",
      " [7 8 9]]\n",
      "[1 4 7]\n",
      "[[1 2 3]\n",
      " [7 8 9]]\n",
      "[[1 0 3]\n",
      " [4 0 6]\n",
      " [7 0 9]]\n"
     ]
    }
   ],
   "source": [
    "# For 3D arrays, the first index refers to the \"depth\" (sheets of data).\n",
    "arr3D = np.array([[[1, 2, 3], [4, 5, 6]],\n",
    "                  [[7, 8, 9], [10, 11, 12]]])\n",
    "\n",
    "# Output of arr3D.shape is → (depth, rows, columns)\n",
    "print(arr3D.shape)  # Output: (2, 2, 3) \n",
    "\n",
    "# First sheet, second row, third column\n",
    "print(arr3D[0, 1, 2])  # Output: 6\n",
    "\n",
    "print(arr3D[:, 0, :])   # Get the first row from both sheets\n",
    "\n",
    "\n",
    "# Get all rows of the first column\n",
    "first_col = arr[:, 0]\n",
    "print(first_col)  # Output: [1 4 7]\n",
    "\n",
    "# Get the first row from each \"sheet\" in a 3D array\n",
    "first_rows = arr3D[:, 0, :]\n",
    "print(first_rows)\n",
    "\n",
    "# Replace all elements in column 1 with 0\n",
    "arr[:, 1] = 0\n",
    "print(arr)\n",
    "\n"
   ]
  },
  {
   "cell_type": "markdown",
   "id": "18e87456-e23b-431f-8961-3bb65e059f3a",
   "metadata": {},
   "source": [
    "# Useful NumPy Functions Cheat-Sheet"
   ]
  },
  {
   "cell_type": "code",
   "execution_count": 19,
   "id": "9ca5ef93-466c-4e82-b5ef-d6c21a662985",
   "metadata": {},
   "outputs": [
    {
     "name": "stderr",
     "output_type": "stream",
     "text": [
      "C:\\Users\\mypc\\AppData\\Local\\Temp\\ipykernel_7896\\869801454.py:17: RuntimeWarning: divide by zero encountered in log\n",
      "  np.log(arr)\n"
     ]
    },
    {
     "data": {
      "text/plain": [
       "array([[2.71828183e+00, 1.00000000e+00, 2.00855369e+01],\n",
       "       [5.45981500e+01, 1.00000000e+00, 4.03428793e+02],\n",
       "       [1.09663316e+03, 1.00000000e+00, 8.10308393e+03]])"
      ]
     },
     "execution_count": 19,
     "metadata": {},
     "output_type": "execute_result"
    }
   ],
   "source": [
    "np.mean(arr)\n",
    "np.std(arr)\n",
    "np.var(arr)\n",
    "np.min(arr)\n",
    "np.max(arr)\n",
    "np.sum(arr)\n",
    "np.prod(arr)\n",
    "np.median(arr)\n",
    "np.percentile(arr, 50)\n",
    "np.argmin(arr)\n",
    "np.argmax(arr)\n",
    "np.corrcoef(arr1, arr2)\n",
    "np.unique(arr)\n",
    "np.diff(arr)\n",
    "np.cumsum(arr)\n",
    "np.linspace(0, 10, 5)\n",
    "np.log(arr)\n",
    "np.exp(arr)"
   ]
  },
  {
   "cell_type": "markdown",
   "id": "43324da7-7f80-41b5-a48b-481e4fc452d0",
   "metadata": {},
   "source": [
    "## Vectorization & Broadcasting"
   ]
  },
  {
   "cell_type": "code",
   "execution_count": 20,
   "id": "7b7096c9-079c-4061-afa9-088032797a4b",
   "metadata": {},
   "outputs": [
    {
     "name": "stdout",
     "output_type": "stream",
     "text": [
      "[np.int64(1), np.int64(4), np.int64(9), np.int64(16), np.int64(25)]\n",
      "[ 1  4  9 16 25]\n",
      "[11 12 13 14 15]\n",
      "[11 22 33]\n",
      "[[2 4 6]\n",
      " [5 7 9]]\n"
     ]
    }
   ],
   "source": [
    "arr = np.array([1, 2, 3, 4, 5])\n",
    "result = []\n",
    "for num in arr:\n",
    "    result.append(num ** 2)\n",
    "print(result)\n",
    "\n",
    "arr = np.array([1, 2, 3, 4, 5])\n",
    "result = arr ** 2\n",
    "print(result)\n",
    "\n",
    "arr = np.array([1, 2, 3, 4, 5])\n",
    "result = arr + 10\n",
    "print(result)\n",
    "\n",
    "arr1 = np.array([1, 2, 3])\n",
    "arr2 = np.array([10, 20, 30])\n",
    "result = arr1 + arr2\n",
    "print(result)\n",
    "\n",
    "arr1 = np.array([[1, 2, 3], [4, 5, 6]])\n",
    "arr2 = np.array([1, 2, 3])\n",
    "result = arr1 + arr2\n",
    "print(result)"
   ]
  },
  {
   "cell_type": "markdown",
   "id": "5c6f11d6-ff5c-46e9-bf0c-07141ad3de62",
   "metadata": {},
   "source": [
    "## Data types and Changing Data Types"
   ]
  },
  {
   "cell_type": "code",
   "execution_count": 22,
   "id": "8947b6d2-d93c-4578-b538-ffcfe9a2f909",
   "metadata": {},
   "outputs": [
    {
     "name": "stdout",
     "output_type": "stream",
     "text": [
      "int64\n",
      "float64\n",
      "[1 2 3]\n",
      "int32\n",
      "[1000000 2000000 3000000]\n",
      "int32\n",
      "24\n",
      "12\n",
      "['apple' 'banana' 'cherry']\n",
      "[1.+2.j 3.+4.j 5.+6.j]\n",
      "[{'a': 1} list([1, 2, 3]) 'hello']\n"
     ]
    }
   ],
   "source": [
    "arr = np.array([1, 2, 3, 4, 5])\n",
    "print(arr.dtype)\n",
    "arr = np.array([1.5, 2.7, 3.9])\n",
    "print(arr.dtype)\n",
    "arr_int = arr.astype(np.int32)\n",
    "print(arr_int)\n",
    "print(arr_int.dtype)\n",
    "\n",
    "arr_large = np.array([1000000, 2000000, 3000000], dtype=np.int64)\n",
    "arr_small = arr_large.astype(np.int32)\n",
    "print(arr_small)\n",
    "print(arr_small.dtype)\n",
    "\n",
    "arr_int64 = np.array([1, 2, 3], dtype=np.int64)\n",
    "arr_int32 = np.array([1, 2, 3], dtype=np.int32)\n",
    "print(arr_int64.nbytes)\n",
    "print(arr_int32.nbytes)\n",
    "\n",
    "arr = np.array(['apple', 'banana', 'cherry'], dtype='U10')\n",
    "print(arr)\n",
    "\n",
    "arr = np.array([1 + 2j, 3 + 4j, 5 + 6j], dtype='complex128')\n",
    "print(arr)\n",
    "\n",
    "arr = np.array([{'a': 1}, [1, 2, 3], 'hello'], dtype=object)\n",
    "print(arr)"
   ]
  },
  {
   "cell_type": "code",
   "execution_count": 8,
   "id": "9e7c4e42-1b5b-43ce-8906-8875d7b8fec4",
   "metadata": {},
   "outputs": [
    {
     "data": {
      "text/html": [
       "<div>\n",
       "<style scoped>\n",
       "    .dataframe tbody tr th:only-of-type {\n",
       "        vertical-align: middle;\n",
       "    }\n",
       "\n",
       "    .dataframe tbody tr th {\n",
       "        vertical-align: top;\n",
       "    }\n",
       "\n",
       "    .dataframe thead th {\n",
       "        text-align: right;\n",
       "    }\n",
       "</style>\n",
       "<table border=\"1\" class=\"dataframe\">\n",
       "  <thead>\n",
       "    <tr style=\"text-align: right;\">\n",
       "      <th></th>\n",
       "      <th>Name</th>\n",
       "      <th>AI</th>\n",
       "      <th>ML</th>\n",
       "      <th>SQL</th>\n",
       "    </tr>\n",
       "  </thead>\n",
       "  <tbody>\n",
       "    <tr>\n",
       "      <th>0</th>\n",
       "      <td>Nawaira</td>\n",
       "      <td>10</td>\n",
       "      <td>100</td>\n",
       "      <td>10</td>\n",
       "    </tr>\n",
       "    <tr>\n",
       "      <th>1</th>\n",
       "      <td>Usman</td>\n",
       "      <td>98</td>\n",
       "      <td>98</td>\n",
       "      <td>98</td>\n",
       "    </tr>\n",
       "    <tr>\n",
       "      <th>2</th>\n",
       "      <td>Laiba</td>\n",
       "      <td>99</td>\n",
       "      <td>99</td>\n",
       "      <td>99</td>\n",
       "    </tr>\n",
       "    <tr>\n",
       "      <th>3</th>\n",
       "      <td>Mufti Sahab</td>\n",
       "      <td>89</td>\n",
       "      <td>89</td>\n",
       "      <td>89</td>\n",
       "    </tr>\n",
       "  </tbody>\n",
       "</table>\n",
       "</div>"
      ],
      "text/plain": [
       "          Name  AI   ML  SQL\n",
       "0      Nawaira  10  100   10\n",
       "1        Usman  98   98   98\n",
       "2        Laiba  99   99   99\n",
       "3  Mufti Sahab  89   89   89"
      ]
     },
     "execution_count": 8,
     "metadata": {},
     "output_type": "execute_result"
    }
   ],
   "source": [
    "import pandas as pd \n",
    "data ={\n",
    "\"Name\":[\"Nawaira\", \"Usman\", \"Laiba\", \"Mufti Sahab\"],\n",
    "\"AI\":[10, 98, 99, 89],\n",
    "\"ML\":[100, 98, 99, 89],\n",
    " \"SQL\":[10, 98, 99, 89],   \n",
    "}\n",
    "\n",
    "df=pd.DataFrame(data, columns=[\"Name\", \"AI\", \"ML\", \"SQL\"])\n",
    "df"
   ]
  },
  {
   "cell_type": "code",
   "execution_count": 20,
   "id": "9248a829-b4bd-4ece-bf35-0ea97d09627c",
   "metadata": {},
   "outputs": [
    {
     "data": {
      "text/html": [
       "<div>\n",
       "<style scoped>\n",
       "    .dataframe tbody tr th:only-of-type {\n",
       "        vertical-align: middle;\n",
       "    }\n",
       "\n",
       "    .dataframe tbody tr th {\n",
       "        vertical-align: top;\n",
       "    }\n",
       "\n",
       "    .dataframe thead th {\n",
       "        text-align: right;\n",
       "    }\n",
       "</style>\n",
       "<table border=\"1\" class=\"dataframe\">\n",
       "  <thead>\n",
       "    <tr style=\"text-align: right;\">\n",
       "      <th>Subjects</th>\n",
       "      <th>AI</th>\n",
       "      <th>ML</th>\n",
       "      <th>SQL</th>\n",
       "    </tr>\n",
       "    <tr>\n",
       "      <th>Name</th>\n",
       "      <th></th>\n",
       "      <th></th>\n",
       "      <th></th>\n",
       "    </tr>\n",
       "  </thead>\n",
       "  <tbody>\n",
       "    <tr>\n",
       "      <th>Laiba</th>\n",
       "      <td>99</td>\n",
       "      <td>99</td>\n",
       "      <td>99</td>\n",
       "    </tr>\n",
       "    <tr>\n",
       "      <th>Mufti Sahab</th>\n",
       "      <td>89</td>\n",
       "      <td>89</td>\n",
       "      <td>89</td>\n",
       "    </tr>\n",
       "    <tr>\n",
       "      <th>Nawaira</th>\n",
       "      <td>10</td>\n",
       "      <td>100</td>\n",
       "      <td>10</td>\n",
       "    </tr>\n",
       "    <tr>\n",
       "      <th>Usman</th>\n",
       "      <td>98</td>\n",
       "      <td>98</td>\n",
       "      <td>98</td>\n",
       "    </tr>\n",
       "  </tbody>\n",
       "</table>\n",
       "</div>"
      ],
      "text/plain": [
       "Subjects     AI   ML  SQL\n",
       "Name                     \n",
       "Laiba        99   99   99\n",
       "Mufti Sahab  89   89   89\n",
       "Nawaira      10  100   10\n",
       "Usman        98   98   98"
      ]
     },
     "execution_count": 20,
     "metadata": {},
     "output_type": "execute_result"
    }
   ],
   "source": [
    "d=df.melt(id_vars=[\"Name\"],value_vars=[\"AI\", \"ML\", \"SQL\"], var_name=\"Subjects\",value_name=\"Obtained marks\")\n",
    "d.pivot(index=\"Name\", columns=\"Subjects\",values=\"Obtained marks\")"
   ]
  },
  {
   "cell_type": "code",
   "execution_count": 20,
   "id": "c5aeb895-8516-4bc9-a398-db07fff6bd95",
   "metadata": {},
   "outputs": [
    {
     "data": {
      "text/html": [
       "<div>\n",
       "<style scoped>\n",
       "    .dataframe tbody tr th:only-of-type {\n",
       "        vertical-align: middle;\n",
       "    }\n",
       "\n",
       "    .dataframe tbody tr th {\n",
       "        vertical-align: top;\n",
       "    }\n",
       "\n",
       "    .dataframe thead th {\n",
       "        text-align: right;\n",
       "    }\n",
       "</style>\n",
       "<table border=\"1\" class=\"dataframe\">\n",
       "  <thead>\n",
       "    <tr style=\"text-align: right;\">\n",
       "      <th></th>\n",
       "      <th>DeptId</th>\n",
       "      <th>DeptName</th>\n",
       "      <th>DeptHead</th>\n",
       "    </tr>\n",
       "  </thead>\n",
       "  <tbody>\n",
       "    <tr>\n",
       "      <th>0</th>\n",
       "      <td>1</td>\n",
       "      <td>Hr</td>\n",
       "      <td>Usman</td>\n",
       "    </tr>\n",
       "    <tr>\n",
       "      <th>1</th>\n",
       "      <td>2</td>\n",
       "      <td>Sales</td>\n",
       "      <td>KaleemUllah</td>\n",
       "    </tr>\n",
       "    <tr>\n",
       "      <th>2</th>\n",
       "      <td>3</td>\n",
       "      <td>IT</td>\n",
       "      <td>Nawaira</td>\n",
       "    </tr>\n",
       "    <tr>\n",
       "      <th>3</th>\n",
       "      <td>4</td>\n",
       "      <td>Finance</td>\n",
       "      <td>Laiba</td>\n",
       "    </tr>\n",
       "  </tbody>\n",
       "</table>\n",
       "</div>"
      ],
      "text/plain": [
       "   DeptId DeptName     DeptHead\n",
       "0       1       Hr        Usman\n",
       "1       2    Sales  KaleemUllah\n",
       "2       3       IT      Nawaira\n",
       "3       4  Finance        Laiba"
      ]
     },
     "execution_count": 20,
     "metadata": {},
     "output_type": "execute_result"
    }
   ],
   "source": [
    "data_dep={\n",
    "    \"DeptId\":[1,2,3,4],\n",
    "    \"DeptName\":[\"Hr\", \"Sales\", \"IT\", \"Finance\"],\n",
    "    \"DeptHead\":[\"Usman\", \"KaleemUllah\", \"Nawaira\", \"Laiba\"]\n",
    "}\n",
    "df_dep=pd.DataFrame(data_dep)\n",
    "df_dep"
   ]
  },
  {
   "cell_type": "code",
   "execution_count": 23,
   "id": "9eb722c7-6285-435a-8d91-95b23f51d568",
   "metadata": {},
   "outputs": [
    {
     "data": {
      "text/html": [
       "<div>\n",
       "<style scoped>\n",
       "    .dataframe tbody tr th:only-of-type {\n",
       "        vertical-align: middle;\n",
       "    }\n",
       "\n",
       "    .dataframe tbody tr th {\n",
       "        vertical-align: top;\n",
       "    }\n",
       "\n",
       "    .dataframe thead th {\n",
       "        text-align: right;\n",
       "    }\n",
       "</style>\n",
       "<table border=\"1\" class=\"dataframe\">\n",
       "  <thead>\n",
       "    <tr style=\"text-align: right;\">\n",
       "      <th></th>\n",
       "      <th>ID</th>\n",
       "      <th>Name</th>\n",
       "      <th>DeptId</th>\n",
       "    </tr>\n",
       "  </thead>\n",
       "  <tbody>\n",
       "    <tr>\n",
       "      <th>0</th>\n",
       "      <td>1</td>\n",
       "      <td>Hira</td>\n",
       "      <td>1</td>\n",
       "    </tr>\n",
       "    <tr>\n",
       "      <th>1</th>\n",
       "      <td>2</td>\n",
       "      <td>Salman</td>\n",
       "      <td>2</td>\n",
       "    </tr>\n",
       "    <tr>\n",
       "      <th>2</th>\n",
       "      <td>3</td>\n",
       "      <td>Inshaal</td>\n",
       "      <td>0</td>\n",
       "    </tr>\n",
       "    <tr>\n",
       "      <th>3</th>\n",
       "      <td>4</td>\n",
       "      <td>Zaid</td>\n",
       "      <td>0</td>\n",
       "    </tr>\n",
       "  </tbody>\n",
       "</table>\n",
       "</div>"
      ],
      "text/plain": [
       "   ID     Name  DeptId\n",
       "0   1     Hira       1\n",
       "1   2   Salman       2\n",
       "2   3  Inshaal       0\n",
       "3   4     Zaid       0"
      ]
     },
     "execution_count": 23,
     "metadata": {},
     "output_type": "execute_result"
    }
   ],
   "source": [
    "data_emp={\n",
    "    \"ID\":[1,2,3,4],\n",
    "    \"Name\":[\"Hira\", \"Salman\", \"Inshaal\", \"Zaid\"],\n",
    "    \"DeptId\":[1, 2,0, 0]\n",
    "}\n",
    "df_emp=pd.DataFrame(data_emp)\n",
    "df_emp"
   ]
  },
  {
   "cell_type": "code",
   "execution_count": 27,
   "id": "18992c3c-824c-4119-ad2a-2b4ef0616537",
   "metadata": {},
   "outputs": [
    {
     "data": {
      "text/html": [
       "<div>\n",
       "<style scoped>\n",
       "    .dataframe tbody tr th:only-of-type {\n",
       "        vertical-align: middle;\n",
       "    }\n",
       "\n",
       "    .dataframe tbody tr th {\n",
       "        vertical-align: top;\n",
       "    }\n",
       "\n",
       "    .dataframe thead th {\n",
       "        text-align: right;\n",
       "    }\n",
       "</style>\n",
       "<table border=\"1\" class=\"dataframe\">\n",
       "  <thead>\n",
       "    <tr style=\"text-align: right;\">\n",
       "      <th></th>\n",
       "      <th>DeptId</th>\n",
       "      <th>DeptName</th>\n",
       "      <th>DeptHead</th>\n",
       "      <th>ID</th>\n",
       "      <th>Name</th>\n",
       "    </tr>\n",
       "  </thead>\n",
       "  <tbody>\n",
       "    <tr>\n",
       "      <th>0</th>\n",
       "      <td>0</td>\n",
       "      <td>NaN</td>\n",
       "      <td>NaN</td>\n",
       "      <td>3.0</td>\n",
       "      <td>Inshaal</td>\n",
       "    </tr>\n",
       "    <tr>\n",
       "      <th>1</th>\n",
       "      <td>0</td>\n",
       "      <td>NaN</td>\n",
       "      <td>NaN</td>\n",
       "      <td>4.0</td>\n",
       "      <td>Zaid</td>\n",
       "    </tr>\n",
       "    <tr>\n",
       "      <th>2</th>\n",
       "      <td>1</td>\n",
       "      <td>Hr</td>\n",
       "      <td>Usman</td>\n",
       "      <td>1.0</td>\n",
       "      <td>Hira</td>\n",
       "    </tr>\n",
       "    <tr>\n",
       "      <th>3</th>\n",
       "      <td>2</td>\n",
       "      <td>Sales</td>\n",
       "      <td>KaleemUllah</td>\n",
       "      <td>2.0</td>\n",
       "      <td>Salman</td>\n",
       "    </tr>\n",
       "    <tr>\n",
       "      <th>4</th>\n",
       "      <td>3</td>\n",
       "      <td>IT</td>\n",
       "      <td>Nawaira</td>\n",
       "      <td>NaN</td>\n",
       "      <td>NaN</td>\n",
       "    </tr>\n",
       "    <tr>\n",
       "      <th>5</th>\n",
       "      <td>4</td>\n",
       "      <td>Finance</td>\n",
       "      <td>Laiba</td>\n",
       "      <td>NaN</td>\n",
       "      <td>NaN</td>\n",
       "    </tr>\n",
       "  </tbody>\n",
       "</table>\n",
       "</div>"
      ],
      "text/plain": [
       "   DeptId DeptName     DeptHead   ID     Name\n",
       "0       0      NaN          NaN  3.0  Inshaal\n",
       "1       0      NaN          NaN  4.0     Zaid\n",
       "2       1       Hr        Usman  1.0     Hira\n",
       "3       2    Sales  KaleemUllah  2.0   Salman\n",
       "4       3       IT      Nawaira  NaN      NaN\n",
       "5       4  Finance        Laiba  NaN      NaN"
      ]
     },
     "execution_count": 27,
     "metadata": {},
     "output_type": "execute_result"
    }
   ],
   "source": [
    "pd.merge(df_dep,df_emp,on=\"DeptId\",how=\"outer\")"
   ]
  }
 ],
 "metadata": {
  "kernelspec": {
   "display_name": "Python 3 (ipykernel)",
   "language": "python",
   "name": "python3"
  },
  "language_info": {
   "codemirror_mode": {
    "name": "ipython",
    "version": 3
   },
   "file_extension": ".py",
   "mimetype": "text/x-python",
   "name": "python",
   "nbconvert_exporter": "python",
   "pygments_lexer": "ipython3",
   "version": "3.13.1"
  }
 },
 "nbformat": 4,
 "nbformat_minor": 5
}
